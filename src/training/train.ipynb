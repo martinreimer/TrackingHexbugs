{
 "cells": [
  {
   "cell_type": "markdown",
   "metadata": {},
   "source": [
    "YOLOv8 Detection Model Training Notebook\n",
    "This notebook is designed for training YOLOv8 detection models on custom datasets using Google Colab with GPU.\n",
    "\n",
    "\n",
    "It assumes the dataset is organized in the Ultralytics format and stored on Google Drive.\n",
    "The user needs to provide a .yml file with dataset information and the yolo pretrained model."
   ]
  },
  {
   "cell_type": "code",
   "execution_count": null,
   "metadata": {},
   "outputs": [],
   "source": [
    "# Import necessary libraries\n",
    "import os\n",
    "from google.colab import drive"
   ]
  },
  {
   "cell_type": "code",
   "execution_count": null,
   "metadata": {},
   "outputs": [],
   "source": [
    "# Mount Google Drive to access dataset and save models\n",
    "drive.mount('/content/drive')"
   ]
  },
  {
   "cell_type": "code",
   "execution_count": null,
   "metadata": {},
   "outputs": [],
   "source": [
    "# Define paths for dataset and workspace\n",
    "WORKSPACE = '/content/yolov8_workspace'\n",
    "DATASET_DIR = '/content/dataset'\n",
    "DRIVE_DATASET_DIR = '/content/drive/MyDrive/YOUR_DATASET_PATH'  # Replace with your dataset path in Google Drive\n",
    "DRIVE_OUTPUT_DIR = '/content/drive/MyDrive/YOUR_OUTPUT_PATH'  # Replace with your output path in Google Drive\n",
    "\n",
    "# Create workspace directories\n",
    "os.makedirs(WORKSPACE, exist_ok=True)\n",
    "os.makedirs(DATASET_DIR, exist_ok=True)"
   ]
  },
  {
   "cell_type": "code",
   "execution_count": null,
   "metadata": {},
   "outputs": [],
   "source": [
    "# Copy dataset from Google Drive to local workspace\n",
    "!cp -r \"$DRIVE_DATASET_DIR\"/* \"$DATASET_DIR\""
   ]
  },
  {
   "cell_type": "code",
   "execution_count": null,
   "metadata": {},
   "outputs": [],
   "source": [
    "# Install Ultralytics for YOLOv8\n",
    "# or install custom ultralytics from given .zip file\n",
    "!pip install ultralytics"
   ]
  },
  {
   "cell_type": "code",
   "execution_count": null,
   "metadata": {},
   "outputs": [],
   "source": [
    "# Import YOLO module from Ultralytics\n",
    "from ultralytics import YOLO"
   ]
  },
  {
   "cell_type": "code",
   "execution_count": null,
   "metadata": {},
   "outputs": [],
   "source": [
    "# Define dataset .yml file path\n",
    "data_yaml_path = os.path.join(DATASET_DIR, 'dataset.yml')  # Ensure your dataset .yml file is present in the dataset directory\n",
    "# Check if .yml file exists\n",
    "if not os.path.exists(data_yaml_path):\n",
    "    raise FileNotFoundError(f\"Dataset YAML file not found at {data_yaml_path}. Please ensure it exists.\")\n"
   ]
  },
  {
   "cell_type": "markdown",
   "metadata": {},
   "source": [
    "### Train"
   ]
  },
  {
   "cell_type": "code",
   "execution_count": null,
   "metadata": {},
   "outputs": [],
   "source": [
    "# Initialize the YOLOv8 model\n",
    "model = YOLO('yolov8n.pt')  # Replace 'yolov8n.pt' with the desired YOLOv8 variant (e.g., yolov8s.pt, yolov8m.pt)\n",
    "\n",
    "# Train the model\n",
    "model.train(\n",
    "    data=data_yaml_path,  # Path to dataset YAML file\n",
    "    epochs=50,  # Number of training epochs\n",
    "    imgsz=640,  # Image size for training\n",
    "    batch=16,  # Batch size for training\n",
    "    name='yolov8_detection_model',  # Model name for saving checkpoints\n",
    "    project=WORKSPACE,  # Workspace directory for saving results\n",
    "    device=0  # Use GPU (device 0)\n",
    ")"
   ]
  },
  {
   "cell_type": "code",
   "execution_count": null,
   "metadata": {},
   "outputs": [],
   "source": [
    "# Validate the model\n",
    "model.val()"
   ]
  },
  {
   "cell_type": "markdown",
   "metadata": {},
   "source": [
    "## Export"
   ]
  },
  {
   "cell_type": "code",
   "execution_count": null,
   "metadata": {},
   "outputs": [],
   "source": [
    "\n",
    "# Export trained model to Google Drive\n",
    "output_model_path = os.path.join(WORKSPACE, 'yolov8_detection_model', 'weights', 'best.pt')\n",
    "if os.path.exists(output_model_path):\n",
    "    !cp \"$output_model_path\" \"$DRIVE_OUTPUT_DIR\"\n",
    "    print(f\"Model exported to {DRIVE_OUTPUT_DIR}\")\n",
    "else:\n",
    "    print(\"Trained model not found. Check the training output directory.\")\n"
   ]
  },
  {
   "cell_type": "code",
   "execution_count": null,
   "metadata": {},
   "outputs": [],
   "source": [
    "# Clean up workspace (optional)\n",
    "# Uncomment the line below to remove the local workspace after training and validation\n",
    "!rm -rf \"$WORKSPACE\""
   ]
  },
  {
   "cell_type": "markdown",
   "metadata": {},
   "source": []
  }
 ],
 "metadata": {
  "language_info": {
   "name": "python"
  }
 },
 "nbformat": 4,
 "nbformat_minor": 2
}

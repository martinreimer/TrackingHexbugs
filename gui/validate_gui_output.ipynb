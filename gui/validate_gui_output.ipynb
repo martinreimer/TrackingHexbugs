{
 "cells": [
  {
   "cell_type": "code",
   "execution_count": 1,
   "metadata": {},
   "outputs": [],
   "source": [
    "import os\n",
    "import cv2\n",
    "import matplotlib.pyplot as plt\n",
    "import pandas as pd"
   ]
  },
  {
   "cell_type": "code",
   "execution_count": null,
   "metadata": {},
   "outputs": [],
   "source": [
    "# get absolute path in jupyter notebook\n",
    "cwd = os.path.abspath(\"\")\n",
    "images_path = \"C:/Users/marti/Documents/courses/Traco/data/dataset/new/images\"#os.path.abspath(os.path.join(cwd, os.pardir, \"new_data\", \"my\", \"images\"))\n",
    "labels_path = \"C:/Users/marti/Documents/courses/Traco/data/dataset/new/labels\"#os.path.abspath(os.path.join(cwd, os.pardir, \"new_data\", \"my\", \"labels\"))\n",
    "# take all csv files from labels folder\n",
    "tracking_labels_files = [os.path.abspath(os.path.join(labels_path, f)) for f in os.listdir(labels_path) if f.endswith('.csv')]\n",
    "print(f\"{tracking_labels_files}\")"
   ]
  },
  {
   "cell_type": "markdown",
   "metadata": {},
   "source": [
    "# Visualize Yolo Format"
   ]
  },
  {
   "cell_type": "code",
   "execution_count": null,
   "metadata": {},
   "outputs": [],
   "source": [
    "# Function to convert YOLO format to bounding box coordinates\n",
    "def yolo_to_bbox(yolo_bbox, img_width, img_height):\n",
    "    class_id, x_center, y_center, width, height = yolo_bbox\n",
    "    x_center, y_center, width, height = float(x_center), float(y_center), float(width), float(height)\n",
    "    \n",
    "    x_min = int((x_center - width / 2) * img_width)\n",
    "    x_max = int((x_center + width / 2) * img_width)\n",
    "    y_min = int((y_center - height / 2) * img_height)\n",
    "    y_max = int((y_center + height / 2) * img_height)\n",
    "    \n",
    "    return class_id, x_min, y_min, x_max, y_max\n",
    "\n",
    "# Get a list of image files\n",
    "image_files = [f for f in os.listdir(images_path) if f.endswith('.jpg')]\n",
    "print(image_files)\n",
    "for image_file in image_files:\n",
    "    # Get the corresponding label file\n",
    "    label_file = image_file.replace('.jpg', '.txt')\n",
    "    label_path = os.path.join(labels_path, label_file)\n",
    "    print(label_path)\n",
    "    image_path = os.path.join(images_path, image_file)\n",
    "    print(image_path)\n",
    "    print()\n",
    "    # Read the image\n",
    "    image = cv2.imread(image_path)\n",
    "    if image is None:\n",
    "        print('Could not read image:', image_file)\n",
    "        continue\n",
    "    img_height, img_width, _ = image.shape\n",
    "\n",
    "    # Read the label file\n",
    "    with open(label_path, 'r') as file:\n",
    "        lines = file.readlines()\n",
    "\n",
    "    # Parse the bounding boxes and draw them on the image\n",
    "    for line in lines:\n",
    "        yolo_bbox = line.strip().split()\n",
    "        bbox = yolo_to_bbox(yolo_bbox, img_width, img_height)\n",
    "        class_id, x_min, y_min, x_max, y_max = bbox\n",
    "        \n",
    "        # Draw the bounding box\n",
    "        cv2.rectangle(image, (x_min, y_min), (x_max, y_max), (0, 0, 255), 2)\n",
    "        cv2.putText(image, str(class_id), (x_min, y_min - 10), cv2.FONT_HERSHEY_SIMPLEX, 0.9, (36,255,12), 2)\n",
    "    \n",
    "    # Display the image\n",
    "    plt.figure(figsize=(10, 10))\n",
    "    plt.imshow(cv2.cvtColor(image, cv2.COLOR_BGR2RGB))\n",
    "    plt.title(image_file)\n",
    "    plt.axis('off')\n",
    "    plt.show()\n"
   ]
  },
  {
   "cell_type": "markdown",
   "metadata": {},
   "source": [
    "# Visualize CSV Format"
   ]
  },
  {
   "cell_type": "code",
   "execution_count": null,
   "metadata": {},
   "outputs": [],
   "source": [
    "\n",
    "# Function to plot points on images\n",
    "def plot_points_on_image(image, points):\n",
    "    for point in points:\n",
    "        frame_id, object_id, x, y = point\n",
    "        cv2.circle(image, (int(x), int(y)), 5, (0, 255, 0), -1)\n",
    "        cv2.putText(image, str(object_id), (int(x), int(y) - 10), cv2.FONT_HERSHEY_SIMPLEX, 0.9, (36,255,12), 2)\n",
    "    return image\n",
    "\n",
    "# Get a list of image files\n",
    "image_files = [f for f in os.listdir(images_path) if f.endswith('.jpg')]\n",
    "\n",
    "# Process each CSV file\n",
    "for label_file in os.listdir(labels_path):\n",
    "    if label_file.endswith('.csv'):\n",
    "        base_name = label_file.split('.')[0]\n",
    "        label_path = os.path.join(labels_path, label_file)\n",
    "        \n",
    "        # Read the CSV file\n",
    "        df = pd.read_csv(label_path)\n",
    "        \n",
    "        # Group by frame id\n",
    "        grouped = df.groupby('t')\n",
    "        \n",
    "        for frame_id, group in grouped:\n",
    "            frame_str = f\"{base_name}_{frame_id:03d}.jpg\"\n",
    "            if frame_str in image_files:\n",
    "                image_path = os.path.join(images_path, frame_str)\n",
    "                image = cv2.imread(image_path)\n",
    "                \n",
    "                # Extract points for the current frame\n",
    "                points = group[['t', 'hexbug', 'x', 'y']].values.tolist()\n",
    "                \n",
    "                # Plot points on the image\n",
    "                image_with_points = plot_points_on_image(image, points)\n",
    "                \n",
    "                # Display the image\n",
    "                plt.figure(figsize=(10, 10))\n",
    "                plt.imshow(cv2.cvtColor(image_with_points, cv2.COLOR_BGR2RGB))\n",
    "                plt.title(frame_str)\n",
    "                plt.axis('off')\n",
    "                plt.show()\n"
   ]
  },
  {
   "cell_type": "code",
   "execution_count": null,
   "metadata": {},
   "outputs": [],
   "source": [
    "C:\\Users\\marti\\Documents\\courses\\Traco\\new_data\\my\\labels"
   ]
  },
  {
   "cell_type": "code",
   "execution_count": null,
   "metadata": {},
   "outputs": [],
   "source": []
  }
 ],
 "metadata": {
  "kernelspec": {
   "display_name": "traco",
   "language": "python",
   "name": "python3"
  },
  "language_info": {
   "codemirror_mode": {
    "name": "ipython",
    "version": 3
   },
   "file_extension": ".py",
   "mimetype": "text/x-python",
   "name": "python",
   "nbconvert_exporter": "python",
   "pygments_lexer": "ipython3",
   "version": "3.12.2"
  }
 },
 "nbformat": 4,
 "nbformat_minor": 2
}
